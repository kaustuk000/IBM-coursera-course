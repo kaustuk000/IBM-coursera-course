{
 "cells": [
  {
   "cell_type": "markdown",
   "id": "89357a26-ff2b-4bf5-917c-8cdf7b68f173",
   "metadata": {},
   "source": [
    "# Data Science Tools and Ecosystem"
   ]
  },
  {
   "cell_type": "markdown",
   "id": "20732084-c7bd-4513-a9f1-bfa3f0f05fe9",
   "metadata": {},
   "source": [
    "### In this notebook, Data Science Tools and Ecosystem are summarized."
   ]
  },
  {
   "cell_type": "markdown",
   "id": "2e7f7ecf-d0e9-4864-bcb1-5c2bdcf60543",
   "metadata": {},
   "source": [
    "#### Some of the popular languages that Data Scientists use are:"
   ]
  },
  {
   "cell_type": "markdown",
   "id": "808f1026-ce91-4771-a7ad-a1a0c134649d",
   "metadata": {},
   "source": [
    "1. R\n",
    "2. Python\n",
    "3. Hadoop\n",
    "4. Spark"
   ]
  },
  {
   "cell_type": "markdown",
   "id": "fe45b0dd-3f3e-418e-bb56-7f4f69aecb79",
   "metadata": {},
   "source": [
    "#### Some of the commonly used libraries used by Data Scientists include:\n"
   ]
  },
  {
   "cell_type": "markdown",
   "id": "31548c00-b668-4b2e-aa86-f349f635f48c",
   "metadata": {},
   "source": [
    "1. ggplot\n",
    "2. Vegas\n",
    "3. BigDL\n",
    "4. Tensorflow\n",
    "5. Keras"
   ]
  },
  {
   "cell_type": "markdown",
   "id": "386b2122-af29-4348-9cb7-03c052028363",
   "metadata": {},
   "source": [
    "**Objectives:**\n",
    "- Python  \n",
    "- Data Science\n",
    "- API's\n",
    "- Machine Learning   "
   ]
  },
  {
   "cell_type": "markdown",
   "id": "9bf8dd8c-5fbf-4320-b46f-a47ddd78aaf1",
   "metadata": {},
   "source": [
    "| Data Science Tools |\n",
    " --------------------\n",
    " | Jupyter Notebook |\n",
    " | R Studio |\n",
    " | Apache Zeppelin |\n",
    "\n"
   ]
  },
  {
   "cell_type": "markdown",
   "id": "181e1b88-a2ca-414d-971e-aa8b75692411",
   "metadata": {},
   "source": [
    "### Below are a few examples of evaluating arithmetic expressions in Python\n",
    " **Addition (`+`)** → `5 + 3 = 8`  \n",
    " **Subtraction (`-`)** → `10 - 4 = 6`  \n",
    " **Multiplication (`*`)** → `6 * 2 = 12`"
   ]
  },
  {
   "cell_type": "code",
   "execution_count": null,
   "id": "d0c95450-f273-4d43-afe8-2640fee784ac",
   "metadata": {},
   "outputs": [
    {
     "data": {
      "text/plain": [
       "17"
      ]
     },
     "execution_count": 10,
     "metadata": {},
     "output_type": "execute_result"
    }
   ],
   "source": [
    "# This a simple arithmetic expression to mutiply then add integers\n",
    "(3*4)+5"
   ]
  },
  {
   "cell_type": "code",
   "execution_count": 19,
   "id": "20207b60-5379-430c-b926-caac9b1991af",
   "metadata": {},
   "outputs": [
    {
     "name": "stdout",
     "output_type": "stream",
     "text": [
      "10.0\n"
     ]
    }
   ],
   "source": [
    "#  This will convert 200 minutes to hours by diving by 60\n",
    "mintutes = 600\n",
    "in_hours=600/60\n",
    "print(in_hours)"
   ]
  },
  {
   "cell_type": "markdown",
   "id": "31591c38-fd3d-403c-82b4-d64b6e71106b",
   "metadata": {},
   "source": [
    "## Author\n",
    "Kaustuk Pratap Singh"
   ]
  },
  {
   "cell_type": "code",
   "execution_count": null,
   "id": "3be53c30-1164-4660-8e17-ae70d31c1b26",
   "metadata": {},
   "outputs": [],
   "source": []
  }
 ],
 "metadata": {
  "kernelspec": {
   "display_name": "Python 3 (ipykernel)",
   "language": "python",
   "name": "python3"
  },
  "language_info": {
   "codemirror_mode": {
    "name": "ipython",
    "version": 3
   },
   "file_extension": ".py",
   "mimetype": "text/x-python",
   "name": "python",
   "nbconvert_exporter": "python",
   "pygments_lexer": "ipython3",
   "version": "3.12.4"
  }
 },
 "nbformat": 4,
 "nbformat_minor": 5
}
